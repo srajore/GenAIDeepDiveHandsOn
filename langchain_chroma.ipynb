{
 "cells": [
  {
   "cell_type": "code",
   "execution_count": 1,
   "id": "0df9e756",
   "metadata": {},
   "outputs": [
    {
     "name": "stderr",
     "output_type": "stream",
     "text": [
      "d:\\GenAIDeepDiveHandsOn\\venv\\lib\\site-packages\\tqdm\\auto.py:21: TqdmWarning: IProgress not found. Please update jupyter and ipywidgets. See https://ipywidgets.readthedocs.io/en/stable/user_install.html\n",
      "  from .autonotebook import tqdm as notebook_tqdm\n"
     ]
    }
   ],
   "source": [
    "# Imports\n",
    "from langchain.schema import Document\n",
    "from langchain_chroma import Chroma\n",
    "from langchain_ollama  import OllamaEmbeddings\n",
    "from langchain_ollama import ChatOllama\n",
    "from langchain_core.prompts import PromptTemplate\n",
    "from langchain.chains import RetrievalQA"
   ]
  },
  {
   "cell_type": "code",
   "execution_count": 2,
   "id": "e52392dd",
   "metadata": {},
   "outputs": [],
   "source": [
    "doc1= Document(\n",
    "    page_content=\"Virat Kohli, the heartbeat of Royal Challengers Bangalore, has been a consistent performer in the IPL. Known for his aggressive batting and unmatched passion, he holds records for most runs in the tournament. His leadership, intensity, and match-winning knocks make him one of IPL’s most iconic and inspiring players.\",\n",
    "    metadata={\"team\":\"Royal Challengers Bangalore\"}\n",
    ")\n",
    "\n",
    "doc2 = Document(\n",
    "    page_content=\"MS Dhoni, the iconic captain of Chennai Super Kings, is celebrated for his finishing ability and calm leadership. His strategic brilliance and unmatched composure under pressure have guided CSK to multiple IPL titles. Known as 'Captain Cool', Dhoni remains a legend of the tournament.\",\n",
    "    metadata={\"team\": \"Chennai Super Kings\"}\n",
    ")\n",
    "\n",
    "doc3 = Document(\n",
    "    page_content=\"Rohit Sharma, the batting powerhouse and successful leader of Mumbai Indians, has redefined consistency in the IPL. His elegant stroke play, ability to anchor innings, and multiple championship wins as captain cement his place as one of the league’s greatest performers.\",\n",
    "    metadata={\"team\": \"Mumbai Indians\"}\n",
    ")\n",
    "\n",
    "doc4 = Document(\n",
    "    page_content=\"AB de Villiers, known as 'Mr. 360', mesmerized fans in the IPL with his innovative stroke-making and fearless batting for Royal Challengers Bangalore. His ability to hit anywhere on the ground and finish matches in style made him one of the most loved foreign players in IPL history.\",\n",
    "    metadata={\"team\": \"Royal Challengers Bangalore\"}\n",
    ")\n",
    "\n",
    "doc5 = Document(\n",
    "    page_content=\"Chris Gayle, the 'Universe Boss', is one of IPL’s most destructive batsmen. Representing multiple franchises, he set records for the fastest century and most sixes. His explosive batting at the top of the order transformed matches single-handedly, making him a true entertainer of the tournament.\",\n",
    "    metadata={\"team\": \"Punjab Kings\"}\n",
    ")\n",
    "\n",
    "doc6 = Document(\n",
    "    page_content=\"Lasith Malinga, the Sri Lankan speedster, is regarded as one of the greatest IPL bowlers. Playing for Mumbai Indians, his lethal yorkers and wicket-taking ability under pressure helped his team win crucial matches. He remains the highest wicket-taker for MI and a legend of the league.\",\n",
    "    metadata={\"team\": \"Mumbai Indians\"}\n",
    ")\n",
    "\n",
    "doc7 = Document(\n",
    "    page_content=\"Rashid Khan, the Afghan spin sensation, has been a match-winner in the IPL with his accurate leg-spin and wicket-taking ability. Playing for Sunrisers Hyderabad and Gujarat Titans, his economical spells and ability to dismiss top-order batsmen make him one of the most valuable bowlers in T20 cricket.\",\n",
    "    metadata={\"team\": \"Gujarat Titans\"}\n",
    ")\n",
    "\n",
    "doc8 = Document(\n",
    "    page_content=\"Sunil Narine, the mystery spinner from West Indies, played a pivotal role for Kolkata Knight Riders. His unplayable variations and economical bowling choked opposition batsmen. Later, his explosive batting as an opener added a new dimension, making him a true all-rounder in the IPL.\",\n",
    "    metadata={\"team\": \"Kolkata Knight Riders\"}\n",
    ")\n",
    "\n",
    "doc9 = Document(\n",
    "    page_content=\"Andre Russell, the explosive Jamaican all-rounder, has been a game-changer for Kolkata Knight Riders. Known for his massive six-hitting ability and impactful bowling, Russell’s all-round performances turned matches around. His presence in the middle order makes him one of IPL’s most feared players.\",\n",
    "    metadata={\"team\": \"Kolkata Knight Riders\"}\n",
    ")\n",
    "\n",
    "doc10 = Document(\n",
    "    page_content=\"Hardik Pandya, the dynamic Indian all-rounder, has been a consistent IPL performer. With his aggressive batting, handy seam bowling, and sharp fielding, he played a key role in Mumbai Indians’ success. Later, as captain of Gujarat Titans, he led the team to an IPL title in their debut season.\",\n",
    "    metadata={\"team\": \"Gujarat Titans\"}\n",
    ")\n",
    "\n",
    "doc11 = Document(\n",
    "    page_content=\"MS Dhoni’s wicketkeeping brilliance and sharp cricketing mind have been crucial to Chennai Super Kings’ IPL success. Beyond his captaincy, his lightning-fast stumpings and smart field placements changed the course of many games. His presence behind the stumps made CSK one of the most tactically sound teams in the tournament.\",\n",
    "    metadata={\"team\": \"Chennai Super Kings\"}\n",
    ")"
   ]
  },
  {
   "cell_type": "code",
   "execution_count": 7,
   "id": "7369566d",
   "metadata": {},
   "outputs": [],
   "source": [
    "docs = [doc1, doc2, doc3, doc4, doc5, doc6, doc7, doc8, doc9, doc10, doc11]"
   ]
  },
  {
   "cell_type": "code",
   "execution_count": 8,
   "id": "f8bd8434",
   "metadata": {},
   "outputs": [],
   "source": [
    "vector_store = Chroma(\n",
    "    embedding_function=OllamaEmbeddings(model=\"granite-embedding:latest\"),\n",
    "    persist_directory=\"my_chroma_db\",\n",
    "    collection_name=\"my_collection\", \n",
    ")"
   ]
  },
  {
   "cell_type": "code",
   "execution_count": 9,
   "id": "74fe8a3d",
   "metadata": {},
   "outputs": [
    {
     "data": {
      "text/plain": [
       "['e8c0db7c-2439-43ee-8f39-cf392e0d33a8',\n",
       " 'fe9dbeec-7530-4d70-aba9-491233901fc0',\n",
       " '20c99a73-241c-492f-a8ba-0e9deef30610',\n",
       " '68b30bf3-57c0-4b8b-b077-a3d2dcbf89cb',\n",
       " '80fd1d84-3e99-462e-ad5a-d2c3980e5f14',\n",
       " '19e54a96-0472-4911-8da1-ade7a95e3d69',\n",
       " '8b722560-748c-4359-9601-f1f1f8c60022',\n",
       " 'dab13b11-f95b-4561-98ed-f7018a4f5586',\n",
       " '186219a2-4281-4daf-bfdf-090f4bb8fd23',\n",
       " '6890f444-0485-497a-b181-cf5aa984c069',\n",
       " 'ea7162c6-1a22-4d2d-b81a-874cb553882e']"
      ]
     },
     "execution_count": 9,
     "metadata": {},
     "output_type": "execute_result"
    }
   ],
   "source": [
    "vector_store.add_documents(docs)"
   ]
  },
  {
   "cell_type": "code",
   "execution_count": null,
   "id": "44813745",
   "metadata": {},
   "outputs": [
    {
     "data": {
      "text/plain": [
       "{'ids': ['e8c0db7c-2439-43ee-8f39-cf392e0d33a8',\n",
       "  'fe9dbeec-7530-4d70-aba9-491233901fc0',\n",
       "  '20c99a73-241c-492f-a8ba-0e9deef30610',\n",
       "  '68b30bf3-57c0-4b8b-b077-a3d2dcbf89cb',\n",
       "  '80fd1d84-3e99-462e-ad5a-d2c3980e5f14',\n",
       "  '19e54a96-0472-4911-8da1-ade7a95e3d69',\n",
       "  '8b722560-748c-4359-9601-f1f1f8c60022',\n",
       "  'dab13b11-f95b-4561-98ed-f7018a4f5586',\n",
       "  '186219a2-4281-4daf-bfdf-090f4bb8fd23',\n",
       "  '6890f444-0485-497a-b181-cf5aa984c069',\n",
       "  'ea7162c6-1a22-4d2d-b81a-874cb553882e'],\n",
       " 'embeddings': array([[-0.04757009,  0.03193134, -0.02637874, ..., -0.00378313,\n",
       "         -0.19506896,  0.01929624],\n",
       "        [-0.02805581, -0.01337989, -0.05014517, ..., -0.00273052,\n",
       "         -0.21653521,  0.04143411],\n",
       "        [-0.00815934, -0.01569002,  0.01207674, ...,  0.04724467,\n",
       "         -0.16374817,  0.01997746],\n",
       "        ...,\n",
       "        [-0.03734697, -0.02871344,  0.00236496, ..., -0.04827586,\n",
       "         -0.19744816,  0.05344353],\n",
       "        [-0.01692155, -0.01797885, -0.02252651, ...,  0.00731116,\n",
       "         -0.20043257,  0.03898038],\n",
       "        [-0.02742004, -0.01629953, -0.02676599, ...,  0.00518199,\n",
       "         -0.16641854,  0.0710417 ]], shape=(11, 384)),\n",
       " 'documents': None,\n",
       " 'uris': None,\n",
       " 'included': ['embeddings'],\n",
       " 'data': None,\n",
       " 'metadatas': None}"
      ]
     },
     "execution_count": 11,
     "metadata": {},
     "output_type": "execute_result"
    }
   ],
   "source": [
    "vector_store.get(include=['embeddings','documents','metadatas'])"
   ]
  },
  {
   "cell_type": "code",
   "execution_count": null,
   "id": "6f3623a4",
   "metadata": {},
   "outputs": [
    {
     "data": {
      "text/plain": [
       "[Document(id='71ffd4c8-8a3f-4cc2-9fa9-92b7ff954166', metadata={'team': 'Chennai Super Kings'}, page_content=\"MS Dhoni, the iconic captain of Chennai Super Kings, is celebrated for his finishing ability and calm leadership. His strategic brilliance and unmatched composure under pressure have guided CSK to multiple IPL titles. Known as 'Captain Cool', Dhoni remains a legend of the tournament.\")]"
      ]
     },
     "execution_count": 15,
     "metadata": {},
     "output_type": "execute_result"
    }
   ],
   "source": [
    "vector_store.similarity_search(\n",
    "    query=\"could you talk about MS Dhoni\",\n",
    "    k=1\n",
    ")"
   ]
  },
  {
   "cell_type": "code",
   "execution_count": 6,
   "id": "f0b0fd90",
   "metadata": {},
   "outputs": [
    {
     "data": {
      "text/plain": [
       "[(Document(id='5ee3d207-f25b-46d9-a97a-97c1ff5e00c9', metadata={'team': 'Chennai Super Kings'}, page_content=\"MS Dhoni, the iconic captain of Chennai Super Kings, is celebrated for his finishing ability and calm leadership. His strategic brilliance and unmatched composure under pressure have guided CSK to multiple IPL titles. Known as 'Captain Cool', Dhoni remains a legend of the tournament.\"),\n",
       "  0.3790333569049835),\n",
       " (Document(id='e9c89155-1e86-4778-accb-fd73c2dfb734', metadata={'team': 'Chennai Super Kings'}, page_content='MS Dhoni’s wicketkeeping brilliance and sharp cricketing mind have been crucial to Chennai Super Kings’ IPL success. Beyond his captaincy, his lightning-fast stumpings and smart field placements changed the course of many games. His presence behind the stumps made CSK one of the most tactically sound teams in the tournament.'),\n",
       "  0.4255934953689575)]"
      ]
     },
     "execution_count": 6,
     "metadata": {},
     "output_type": "execute_result"
    }
   ],
   "source": [
    "vector_store.similarity_search_with_score(\n",
    "    query=\"could you talk about MS Dhoni\",\n",
    "    k=2\n",
    ")"
   ]
  },
  {
   "cell_type": "code",
   "execution_count": 9,
   "id": "77955e14",
   "metadata": {},
   "outputs": [],
   "source": [
    "llm = ChatOllama(model=\"llama3.2:latest\")"
   ]
  },
  {
   "cell_type": "code",
   "execution_count": 11,
   "id": "4708590a",
   "metadata": {},
   "outputs": [],
   "source": [
    "prompt_template = \"\"\" \n",
    "    You are an cricket expert. You are given a question and a context. You need to answer the question based on the context. If you don't know the answer, just say that you don't know, don't try to make up an answer.\n",
    "    Question: {question}\n",
    "    Context: {context}\n",
    "\"\"\"\n",
    "\n",
    "\n"
   ]
  },
  {
   "cell_type": "code",
   "execution_count": 12,
   "id": "6092c14c",
   "metadata": {},
   "outputs": [],
   "source": [
    "prompt = PromptTemplate.from_template(template=prompt_template,input_varaiables=[\"context\",\"question\"])"
   ]
  },
  {
   "cell_type": "code",
   "execution_count": 15,
   "id": "744cd80d",
   "metadata": {},
   "outputs": [],
   "source": [
    "qa_chain = RetrievalQA.from_chain_type(\n",
    "    llm=llm,\n",
    "    retriever=vector_store.as_retriever(),\n",
    "    chain_type_kwargs={\"prompt\": prompt}\n",
    ")"
   ]
  },
  {
   "cell_type": "code",
   "execution_count": 16,
   "id": "36be3eb1",
   "metadata": {},
   "outputs": [],
   "source": [
    "response = qa_chain.invoke(\"could you talk about MS Dhoni\")"
   ]
  },
  {
   "cell_type": "code",
   "execution_count": 18,
   "id": "18560360",
   "metadata": {},
   "outputs": [
    {
     "name": "stdout",
     "output_type": "stream",
     "text": [
      "{'query': 'could you talk about MS Dhoni', 'result': \"MS Dhoni is indeed an iconic figure in the Indian Premier League (IPL). According to the context, his key strengths include:\\n\\n1. Finishing ability: He has a remarkable ability to score crucial runs in critical situations, making him a valuable asset for Chennai Super Kings.\\n2. Calm leadership: His composed nature under pressure has been instrumental in guiding CSK to multiple IPL titles.\\n3. Wicketkeeping brilliance: His exceptional skill behind the stumps has changed the course of many games.\\n4. Strategic thinking: He is known for his smart field placements and tactical decisions, which have contributed significantly to CSK's success.\\n\\nHe is often referred to as 'Captain Cool' due to his ability to remain calm and composed under pressure. Overall, Dhoni is widely regarded as a legend of the IPL, and his on-field performance has been instrumental in Chennai Super Kings' success.\"}\n"
     ]
    }
   ],
   "source": [
    "print(response)"
   ]
  }
 ],
 "metadata": {
  "kernelspec": {
   "display_name": "venv",
   "language": "python",
   "name": "python3"
  },
  "language_info": {
   "codemirror_mode": {
    "name": "ipython",
    "version": 3
   },
   "file_extension": ".py",
   "mimetype": "text/x-python",
   "name": "python",
   "nbconvert_exporter": "python",
   "pygments_lexer": "ipython3",
   "version": "3.10.11"
  }
 },
 "nbformat": 4,
 "nbformat_minor": 5
}
